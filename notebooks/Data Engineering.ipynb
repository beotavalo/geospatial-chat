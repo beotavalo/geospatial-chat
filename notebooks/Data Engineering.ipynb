{
 "cells": [
  {
   "cell_type": "code",
   "execution_count": 33,
   "metadata": {},
   "outputs": [],
   "source": [
    "import pandas as pd\n",
    "import json\n",
    "\n",
    "df = pd.read_csv('/workspaces/geospatial-chat/data/raw/combined_data.csv', encoding='ISO-8859-1')\n",
    "\n",
    "\n"
   ]
  },
  {
   "cell_type": "code",
   "execution_count": 34,
   "metadata": {},
   "outputs": [],
   "source": [
    "df = df.drop('Unnamed: 0', axis=1).copy()"
   ]
  },
  {
   "cell_type": "code",
   "execution_count": 35,
   "metadata": {},
   "outputs": [
    {
     "name": "stdout",
     "output_type": "stream",
     "text": [
      "<class 'pandas.core.frame.DataFrame'>\n",
      "RangeIndex: 1134 entries, 0 to 1133\n",
      "Data columns (total 3 columns):\n",
      " #   Column    Non-Null Count  Dtype \n",
      "---  ------    --------------  ----- \n",
      " 0   question  1134 non-null   object\n",
      " 1   area      1134 non-null   object\n",
      " 2   text      1134 non-null   object\n",
      "dtypes: object(3)\n",
      "memory usage: 26.7+ KB\n"
     ]
    }
   ],
   "source": [
    "df.info()"
   ]
  },
  {
   "cell_type": "code",
   "execution_count": 36,
   "metadata": {},
   "outputs": [
    {
     "data": {
      "text/html": [
       "<div>\n",
       "<style scoped>\n",
       "    .dataframe tbody tr th:only-of-type {\n",
       "        vertical-align: middle;\n",
       "    }\n",
       "\n",
       "    .dataframe tbody tr th {\n",
       "        vertical-align: top;\n",
       "    }\n",
       "\n",
       "    .dataframe thead th {\n",
       "        text-align: right;\n",
       "    }\n",
       "</style>\n",
       "<table border=\"1\" class=\"dataframe\">\n",
       "  <thead>\n",
       "    <tr style=\"text-align: right;\">\n",
       "      <th></th>\n",
       "      <th>question</th>\n",
       "      <th>area</th>\n",
       "      <th>text</th>\n",
       "    </tr>\n",
       "  </thead>\n",
       "  <tbody>\n",
       "    <tr>\n",
       "      <th>0</th>\n",
       "      <td>1. What is a land survey?</td>\n",
       "      <td>surveying</td>\n",
       "      <td>A land survey is a report in the form of a map...</td>\n",
       "    </tr>\n",
       "    <tr>\n",
       "      <th>1</th>\n",
       "      <td>2. Why are land surveys so important?</td>\n",
       "      <td>surveying</td>\n",
       "      <td>Prior to the closing on your new home purchase...</td>\n",
       "    </tr>\n",
       "    <tr>\n",
       "      <th>2</th>\n",
       "      <td>3. How is a land survey performed?</td>\n",
       "      <td>surveying</td>\n",
       "      <td>The land surveyor's responsibility is to locat...</td>\n",
       "    </tr>\n",
       "    <tr>\n",
       "      <th>3</th>\n",
       "      <td>4. Why have I been asked if I want property ma...</td>\n",
       "      <td>surveying</td>\n",
       "      <td>In the course of performing a survey in New Je...</td>\n",
       "    </tr>\n",
       "    <tr>\n",
       "      <th>4</th>\n",
       "      <td>5. Why should I not waive the marking of prope...</td>\n",
       "      <td>surveying</td>\n",
       "      <td>Boundary lines shown on a survey map of the pr...</td>\n",
       "    </tr>\n",
       "  </tbody>\n",
       "</table>\n",
       "</div>"
      ],
      "text/plain": [
       "                                            question       area  \\\n",
       "0                          1. What is a land survey?  surveying   \n",
       "1              2. Why are land surveys so important?  surveying   \n",
       "2                 3. How is a land survey performed?  surveying   \n",
       "3  4. Why have I been asked if I want property ma...  surveying   \n",
       "4  5. Why should I not waive the marking of prope...  surveying   \n",
       "\n",
       "                                                text  \n",
       "0  A land survey is a report in the form of a map...  \n",
       "1  Prior to the closing on your new home purchase...  \n",
       "2  The land surveyor's responsibility is to locat...  \n",
       "3  In the course of performing a survey in New Je...  \n",
       "4  Boundary lines shown on a survey map of the pr...  "
      ]
     },
     "execution_count": 36,
     "metadata": {},
     "output_type": "execute_result"
    }
   ],
   "source": [
    "df.head()"
   ]
  },
  {
   "cell_type": "code",
   "execution_count": 37,
   "metadata": {},
   "outputs": [
    {
     "data": {
      "text/html": [
       "<div>\n",
       "<style scoped>\n",
       "    .dataframe tbody tr th:only-of-type {\n",
       "        vertical-align: middle;\n",
       "    }\n",
       "\n",
       "    .dataframe tbody tr th {\n",
       "        vertical-align: top;\n",
       "    }\n",
       "\n",
       "    .dataframe thead th {\n",
       "        text-align: right;\n",
       "    }\n",
       "</style>\n",
       "<table border=\"1\" class=\"dataframe\">\n",
       "  <thead>\n",
       "    <tr style=\"text-align: right;\">\n",
       "      <th></th>\n",
       "      <th>question</th>\n",
       "      <th>area</th>\n",
       "      <th>text</th>\n",
       "    </tr>\n",
       "  </thead>\n",
       "  <tbody>\n",
       "    <tr>\n",
       "      <th>0</th>\n",
       "      <td>1. What is a land survey?</td>\n",
       "      <td>surveying</td>\n",
       "      <td>A land survey is a report in the form of a map...</td>\n",
       "    </tr>\n",
       "    <tr>\n",
       "      <th>1</th>\n",
       "      <td>2. Why are land surveys so important?</td>\n",
       "      <td>surveying</td>\n",
       "      <td>Prior to the closing on your new home purchase...</td>\n",
       "    </tr>\n",
       "    <tr>\n",
       "      <th>2</th>\n",
       "      <td>3. How is a land survey performed?</td>\n",
       "      <td>surveying</td>\n",
       "      <td>The land surveyor's responsibility is to locat...</td>\n",
       "    </tr>\n",
       "    <tr>\n",
       "      <th>3</th>\n",
       "      <td>4. Why have I been asked if I want property ma...</td>\n",
       "      <td>surveying</td>\n",
       "      <td>In the course of performing a survey in New Je...</td>\n",
       "    </tr>\n",
       "    <tr>\n",
       "      <th>4</th>\n",
       "      <td>5. Why should I not waive the marking of prope...</td>\n",
       "      <td>surveying</td>\n",
       "      <td>Boundary lines shown on a survey map of the pr...</td>\n",
       "    </tr>\n",
       "  </tbody>\n",
       "</table>\n",
       "</div>"
      ],
      "text/plain": [
       "                                            question       area  \\\n",
       "0                          1. What is a land survey?  surveying   \n",
       "1              2. Why are land surveys so important?  surveying   \n",
       "2                 3. How is a land survey performed?  surveying   \n",
       "3  4. Why have I been asked if I want property ma...  surveying   \n",
       "4  5. Why should I not waive the marking of prope...  surveying   \n",
       "\n",
       "                                                text  \n",
       "0  A land survey is a report in the form of a map...  \n",
       "1  Prior to the closing on your new home purchase...  \n",
       "2  The land surveyor's responsibility is to locat...  \n",
       "3  In the course of performing a survey in New Je...  \n",
       "4  Boundary lines shown on a survey map of the pr...  "
      ]
     },
     "execution_count": 37,
     "metadata": {},
     "output_type": "execute_result"
    }
   ],
   "source": [
    "df.head()"
   ]
  },
  {
   "cell_type": "code",
   "execution_count": 38,
   "metadata": {},
   "outputs": [
    {
     "data": {
      "text/plain": [
       "question    0\n",
       "area        0\n",
       "text        0\n",
       "dtype: int64"
      ]
     },
     "execution_count": 38,
     "metadata": {},
     "output_type": "execute_result"
    }
   ],
   "source": [
    "df.isnull().sum()"
   ]
  },
  {
   "cell_type": "code",
   "execution_count": 39,
   "metadata": {},
   "outputs": [],
   "source": [
    "df.to_csv('/workspaces/geospatial-chat/data/processed/train_data.csv')"
   ]
  },
  {
   "cell_type": "code",
   "execution_count": 41,
   "metadata": {},
   "outputs": [],
   "source": [
    "df.to_json('/workspaces/geospatial-chat/data/processed/train_data.json', orient='records', lines=True)"
   ]
  }
 ],
 "metadata": {
  "kernelspec": {
   "display_name": "eda_env",
   "language": "python",
   "name": "python3"
  },
  "language_info": {
   "codemirror_mode": {
    "name": "ipython",
    "version": 3
   },
   "file_extension": ".py",
   "mimetype": "text/x-python",
   "name": "python",
   "nbconvert_exporter": "python",
   "pygments_lexer": "ipython3",
   "version": "3.12.5"
  }
 },
 "nbformat": 4,
 "nbformat_minor": 2
}
