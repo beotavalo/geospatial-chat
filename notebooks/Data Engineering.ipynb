{
 "cells": [
  {
   "cell_type": "code",
   "execution_count": 11,
   "metadata": {},
   "outputs": [
    {
     "name": "stdout",
     "output_type": "stream",
     "text": [
      "Collecting numpy\n",
      "  Downloading numpy-2.1.1-cp312-cp312-manylinux_2_17_x86_64.manylinux2014_x86_64.whl.metadata (60 kB)\n",
      "Downloading numpy-2.1.1-cp312-cp312-manylinux_2_17_x86_64.manylinux2014_x86_64.whl (16.0 MB)\n",
      "\u001b[2K   \u001b[90m━━━━━━━━━━━━━━━━━━━━━━━━━━━━━━━━━━━━━━━━\u001b[0m \u001b[32m16.0/16.0 MB\u001b[0m \u001b[31m43.4 MB/s\u001b[0m eta \u001b[36m0:00:00\u001b[0m:00:01\u001b[0m\n",
      "\u001b[?25hInstalling collected packages: numpy\n",
      "Successfully installed numpy-2.1.1\n"
     ]
    }
   ],
   "source": [
    "#!pip install numpy"
   ]
  },
  {
   "cell_type": "code",
   "execution_count": 12,
   "metadata": {},
   "outputs": [],
   "source": [
    "import pandas as pd\n",
    "import json\n",
    "df = pd.read_csv('/workspaces/geospatial-chat/data/raw/combined_data.csv', encoding='ISO-8859-1')"
   ]
  },
  {
   "cell_type": "code",
   "execution_count": 13,
   "metadata": {},
   "outputs": [],
   "source": [
    "df = df.drop('Unnamed: 0', axis=1).copy()"
   ]
  },
  {
   "cell_type": "code",
   "execution_count": 15,
   "metadata": {},
   "outputs": [
    {
     "name": "stdout",
     "output_type": "stream",
     "text": [
      "['doc1134', 'doc1133', 'doc1132', 'doc1131', 'doc1130', 'doc1129', 'doc1128', 'doc1127', 'doc1126', 'doc1125', 'doc1124', 'doc1123', 'doc1122', 'doc1121', 'doc1120', 'doc1119', 'doc1118', 'doc1117', 'doc1116', 'doc1115', 'doc1114', 'doc1113', 'doc1112', 'doc1111', 'doc1110', 'doc1109', 'doc1108', 'doc1107', 'doc1106', 'doc1105', 'doc1104', 'doc1103', 'doc1102', 'doc1101', 'doc1100', 'doc1099', 'doc1098', 'doc1097', 'doc1096', 'doc1095', 'doc1094', 'doc1093', 'doc1092', 'doc1091', 'doc1090', 'doc1089', 'doc1088', 'doc1087', 'doc1086', 'doc1085', 'doc1084', 'doc1083', 'doc1082', 'doc1081', 'doc1080', 'doc1079', 'doc1078', 'doc1077', 'doc1076', 'doc1075', 'doc1074', 'doc1073', 'doc1072', 'doc1071', 'doc1070', 'doc1069', 'doc1068', 'doc1067', 'doc1066', 'doc1065', 'doc1064', 'doc1063', 'doc1062', 'doc1061', 'doc1060', 'doc1059', 'doc1058', 'doc1057', 'doc1056', 'doc1055', 'doc1054', 'doc1053', 'doc1052', 'doc1051', 'doc1050', 'doc1049', 'doc1048', 'doc1047', 'doc1046', 'doc1045', 'doc1044', 'doc1043', 'doc1042', 'doc1041', 'doc1040', 'doc1039', 'doc1038', 'doc1037', 'doc1036', 'doc1035', 'doc1034', 'doc1033', 'doc1032', 'doc1031', 'doc1030', 'doc1029', 'doc1028', 'doc1027', 'doc1026', 'doc1025', 'doc1024', 'doc1023', 'doc1022', 'doc1021', 'doc1020', 'doc1019', 'doc1018', 'doc1017', 'doc1016', 'doc1015', 'doc1014', 'doc1013', 'doc1012', 'doc1011', 'doc1010', 'doc1009', 'doc1008', 'doc1007', 'doc1006', 'doc1005', 'doc1004', 'doc1003', 'doc1002', 'doc1001', 'doc1000', 'doc0999', 'doc0998', 'doc0997', 'doc0996', 'doc0995', 'doc0994', 'doc0993', 'doc0992', 'doc0991', 'doc0990', 'doc0989', 'doc0988', 'doc0987', 'doc0986', 'doc0985', 'doc0984', 'doc0983', 'doc0982', 'doc0981', 'doc0980', 'doc0979', 'doc0978', 'doc0977', 'doc0976', 'doc0975', 'doc0974', 'doc0973', 'doc0972', 'doc0971', 'doc0970', 'doc0969', 'doc0968', 'doc0967', 'doc0966', 'doc0965', 'doc0964', 'doc0963', 'doc0962', 'doc0961', 'doc0960', 'doc0959', 'doc0958', 'doc0957', 'doc0956', 'doc0955', 'doc0954', 'doc0953', 'doc0952', 'doc0951', 'doc0950', 'doc0949', 'doc0948', 'doc0947', 'doc0946', 'doc0945', 'doc0944', 'doc0943', 'doc0942', 'doc0941', 'doc0940', 'doc0939', 'doc0938', 'doc0937', 'doc0936', 'doc0935', 'doc0934', 'doc0933', 'doc0932', 'doc0931', 'doc0930', 'doc0929', 'doc0928', 'doc0927', 'doc0926', 'doc0925', 'doc0924', 'doc0923', 'doc0922', 'doc0921', 'doc0920', 'doc0919', 'doc0918', 'doc0917', 'doc0916', 'doc0915', 'doc0914', 'doc0913', 'doc0912', 'doc0911', 'doc0910', 'doc0909', 'doc0908', 'doc0907', 'doc0906', 'doc0905', 'doc0904', 'doc0903', 'doc0902', 'doc0901', 'doc0900', 'doc0899', 'doc0898', 'doc0897', 'doc0896', 'doc0895', 'doc0894', 'doc0893', 'doc0892', 'doc0891', 'doc0890', 'doc0889', 'doc0888', 'doc0887', 'doc0886', 'doc0885', 'doc0884', 'doc0883', 'doc0882', 'doc0881', 'doc0880', 'doc0879', 'doc0878', 'doc0877', 'doc0876', 'doc0875', 'doc0874', 'doc0873', 'doc0872', 'doc0871', 'doc0870', 'doc0869', 'doc0868', 'doc0867', 'doc0866', 'doc0865', 'doc0864', 'doc0863', 'doc0862', 'doc0861', 'doc0860', 'doc0859', 'doc0858', 'doc0857', 'doc0856', 'doc0855', 'doc0854', 'doc0853', 'doc0852', 'doc0851', 'doc0850', 'doc0849', 'doc0848', 'doc0847', 'doc0846', 'doc0845', 'doc0844', 'doc0843', 'doc0842', 'doc0841', 'doc0840', 'doc0839', 'doc0838', 'doc0837', 'doc0836', 'doc0835', 'doc0834', 'doc0833', 'doc0832', 'doc0831', 'doc0830', 'doc0829', 'doc0828', 'doc0827', 'doc0826', 'doc0825', 'doc0824', 'doc0823', 'doc0822', 'doc0821', 'doc0820', 'doc0819', 'doc0818', 'doc0817', 'doc0816', 'doc0815', 'doc0814', 'doc0813', 'doc0812', 'doc0811', 'doc0810', 'doc0809', 'doc0808', 'doc0807', 'doc0806', 'doc0805', 'doc0804', 'doc0803', 'doc0802', 'doc0801', 'doc0800', 'doc0799', 'doc0798', 'doc0797', 'doc0796', 'doc0795', 'doc0794', 'doc0793', 'doc0792', 'doc0791', 'doc0790', 'doc0789', 'doc0788', 'doc0787', 'doc0786', 'doc0785', 'doc0784', 'doc0783', 'doc0782', 'doc0781', 'doc0780', 'doc0779', 'doc0778', 'doc0777', 'doc0776', 'doc0775', 'doc0774', 'doc0773', 'doc0772', 'doc0771', 'doc0770', 'doc0769', 'doc0768', 'doc0767', 'doc0766', 'doc0765', 'doc0764', 'doc0763', 'doc0762', 'doc0761', 'doc0760', 'doc0759', 'doc0758', 'doc0757', 'doc0756', 'doc0755', 'doc0754', 'doc0753', 'doc0752', 'doc0751', 'doc0750', 'doc0749', 'doc0748', 'doc0747', 'doc0746', 'doc0745', 'doc0744', 'doc0743', 'doc0742', 'doc0741', 'doc0740', 'doc0739', 'doc0738', 'doc0737', 'doc0736', 'doc0735', 'doc0734', 'doc0733', 'doc0732', 'doc0731', 'doc0730', 'doc0729', 'doc0728', 'doc0727', 'doc0726', 'doc0725', 'doc0724', 'doc0723', 'doc0722', 'doc0721', 'doc0720', 'doc0719', 'doc0718', 'doc0717', 'doc0716', 'doc0715', 'doc0714', 'doc0713', 'doc0712', 'doc0711', 'doc0710', 'doc0709', 'doc0708', 'doc0707', 'doc0706', 'doc0705', 'doc0704', 'doc0703', 'doc0702', 'doc0701', 'doc0700', 'doc0699', 'doc0698', 'doc0697', 'doc0696', 'doc0695', 'doc0694', 'doc0693', 'doc0692', 'doc0691', 'doc0690', 'doc0689', 'doc0688', 'doc0687', 'doc0686', 'doc0685', 'doc0684', 'doc0683', 'doc0682', 'doc0681', 'doc0680', 'doc0679', 'doc0678', 'doc0677', 'doc0676', 'doc0675', 'doc0674', 'doc0673', 'doc0672', 'doc0671', 'doc0670', 'doc0669', 'doc0668', 'doc0667', 'doc0666', 'doc0665', 'doc0664', 'doc0663', 'doc0662', 'doc0661', 'doc0660', 'doc0659', 'doc0658', 'doc0657', 'doc0656', 'doc0655', 'doc0654', 'doc0653', 'doc0652', 'doc0651', 'doc0650', 'doc0649', 'doc0648', 'doc0647', 'doc0646', 'doc0645', 'doc0644', 'doc0643', 'doc0642', 'doc0641', 'doc0640', 'doc0639', 'doc0638', 'doc0637', 'doc0636', 'doc0635', 'doc0634', 'doc0633', 'doc0632', 'doc0631', 'doc0630', 'doc0629', 'doc0628', 'doc0627', 'doc0626', 'doc0625', 'doc0624', 'doc0623', 'doc0622', 'doc0621', 'doc0620', 'doc0619', 'doc0618', 'doc0617', 'doc0616', 'doc0615', 'doc0614', 'doc0613', 'doc0612', 'doc0611', 'doc0610', 'doc0609', 'doc0608', 'doc0607', 'doc0606', 'doc0605', 'doc0604', 'doc0603', 'doc0602', 'doc0601', 'doc0600', 'doc0599', 'doc0598', 'doc0597', 'doc0596', 'doc0595', 'doc0594', 'doc0593', 'doc0592', 'doc0591', 'doc0590', 'doc0589', 'doc0588', 'doc0587', 'doc0586', 'doc0585', 'doc0584', 'doc0583', 'doc0582', 'doc0581', 'doc0580', 'doc0579', 'doc0578', 'doc0577', 'doc0576', 'doc0575', 'doc0574', 'doc0573', 'doc0572', 'doc0571', 'doc0570', 'doc0569', 'doc0568', 'doc0567', 'doc0566', 'doc0565', 'doc0564', 'doc0563', 'doc0562', 'doc0561', 'doc0560', 'doc0559', 'doc0558', 'doc0557', 'doc0556', 'doc0555', 'doc0554', 'doc0553', 'doc0552', 'doc0551', 'doc0550', 'doc0549', 'doc0548', 'doc0547', 'doc0546', 'doc0545', 'doc0544', 'doc0543', 'doc0542', 'doc0541', 'doc0540', 'doc0539', 'doc0538', 'doc0537', 'doc0536', 'doc0535', 'doc0534', 'doc0533', 'doc0532', 'doc0531', 'doc0530', 'doc0529', 'doc0528', 'doc0527', 'doc0526', 'doc0525', 'doc0524', 'doc0523', 'doc0522', 'doc0521', 'doc0520', 'doc0519', 'doc0518', 'doc0517', 'doc0516', 'doc0515', 'doc0514', 'doc0513', 'doc0512', 'doc0511', 'doc0510', 'doc0509', 'doc0508', 'doc0507', 'doc0506', 'doc0505', 'doc0504', 'doc0503', 'doc0502', 'doc0501', 'doc0500', 'doc0499', 'doc0498', 'doc0497', 'doc0496', 'doc0495', 'doc0494', 'doc0493', 'doc0492', 'doc0491', 'doc0490', 'doc0489', 'doc0488', 'doc0487', 'doc0486', 'doc0485', 'doc0484', 'doc0483', 'doc0482', 'doc0481', 'doc0480', 'doc0479', 'doc0478', 'doc0477', 'doc0476', 'doc0475', 'doc0474', 'doc0473', 'doc0472', 'doc0471', 'doc0470', 'doc0469', 'doc0468', 'doc0467', 'doc0466', 'doc0465', 'doc0464', 'doc0463', 'doc0462', 'doc0461', 'doc0460', 'doc0459', 'doc0458', 'doc0457', 'doc0456', 'doc0455', 'doc0454', 'doc0453', 'doc0452', 'doc0451', 'doc0450', 'doc0449', 'doc0448', 'doc0447', 'doc0446', 'doc0445', 'doc0444', 'doc0443', 'doc0442', 'doc0441', 'doc0440', 'doc0439', 'doc0438', 'doc0437', 'doc0436', 'doc0435', 'doc0434', 'doc0433', 'doc0432', 'doc0431', 'doc0430', 'doc0429', 'doc0428', 'doc0427', 'doc0426', 'doc0425', 'doc0424', 'doc0423', 'doc0422', 'doc0421', 'doc0420', 'doc0419', 'doc0418', 'doc0417', 'doc0416', 'doc0415', 'doc0414', 'doc0413', 'doc0412', 'doc0411', 'doc0410', 'doc0409', 'doc0408', 'doc0407', 'doc0406', 'doc0405', 'doc0404', 'doc0403', 'doc0402', 'doc0401', 'doc0400', 'doc0399', 'doc0398', 'doc0397', 'doc0396', 'doc0395', 'doc0394', 'doc0393', 'doc0392', 'doc0391', 'doc0390', 'doc0389', 'doc0388', 'doc0387', 'doc0386', 'doc0385', 'doc0384', 'doc0383', 'doc0382', 'doc0381', 'doc0380', 'doc0379', 'doc0378', 'doc0377', 'doc0376', 'doc0375', 'doc0374', 'doc0373', 'doc0372', 'doc0371', 'doc0370', 'doc0369', 'doc0368', 'doc0367', 'doc0366', 'doc0365', 'doc0364', 'doc0363', 'doc0362', 'doc0361', 'doc0360', 'doc0359', 'doc0358', 'doc0357', 'doc0356', 'doc0355', 'doc0354', 'doc0353', 'doc0352', 'doc0351', 'doc0350', 'doc0349', 'doc0348', 'doc0347', 'doc0346', 'doc0345', 'doc0344', 'doc0343', 'doc0342', 'doc0341', 'doc0340', 'doc0339', 'doc0338', 'doc0337', 'doc0336', 'doc0335', 'doc0334', 'doc0333', 'doc0332', 'doc0331', 'doc0330', 'doc0329', 'doc0328', 'doc0327', 'doc0326', 'doc0325', 'doc0324', 'doc0323', 'doc0322', 'doc0321', 'doc0320', 'doc0319', 'doc0318', 'doc0317', 'doc0316', 'doc0315', 'doc0314', 'doc0313', 'doc0312', 'doc0311', 'doc0310', 'doc0309', 'doc0308', 'doc0307', 'doc0306', 'doc0305', 'doc0304', 'doc0303', 'doc0302', 'doc0301', 'doc0300', 'doc0299', 'doc0298', 'doc0297', 'doc0296', 'doc0295', 'doc0294', 'doc0293', 'doc0292', 'doc0291', 'doc0290', 'doc0289', 'doc0288', 'doc0287', 'doc0286', 'doc0285', 'doc0284', 'doc0283', 'doc0282', 'doc0281', 'doc0280', 'doc0279', 'doc0278', 'doc0277', 'doc0276', 'doc0275', 'doc0274', 'doc0273', 'doc0272', 'doc0271', 'doc0270', 'doc0269', 'doc0268', 'doc0267', 'doc0266', 'doc0265', 'doc0264', 'doc0263', 'doc0262', 'doc0261', 'doc0260', 'doc0259', 'doc0258', 'doc0257', 'doc0256', 'doc0255', 'doc0254', 'doc0253', 'doc0252', 'doc0251', 'doc0250', 'doc0249', 'doc0248', 'doc0247', 'doc0246', 'doc0245', 'doc0244', 'doc0243', 'doc0242', 'doc0241', 'doc0240', 'doc0239', 'doc0238', 'doc0237', 'doc0236', 'doc0235', 'doc0234', 'doc0233', 'doc0232', 'doc0231', 'doc0230', 'doc0229', 'doc0228', 'doc0227', 'doc0226', 'doc0225', 'doc0224', 'doc0223', 'doc0222', 'doc0221', 'doc0220', 'doc0219', 'doc0218', 'doc0217', 'doc0216', 'doc0215', 'doc0214', 'doc0213', 'doc0212', 'doc0211', 'doc0210', 'doc0209', 'doc0208', 'doc0207', 'doc0206', 'doc0205', 'doc0204', 'doc0203', 'doc0202', 'doc0201', 'doc0200', 'doc0199', 'doc0198', 'doc0197', 'doc0196', 'doc0195', 'doc0194', 'doc0193', 'doc0192', 'doc0191', 'doc0190', 'doc0189', 'doc0188', 'doc0187', 'doc0186', 'doc0185', 'doc0184', 'doc0183', 'doc0182', 'doc0181', 'doc0180', 'doc0179', 'doc0178', 'doc0177', 'doc0176', 'doc0175', 'doc0174', 'doc0173', 'doc0172', 'doc0171', 'doc0170', 'doc0169', 'doc0168', 'doc0167', 'doc0166', 'doc0165', 'doc0164', 'doc0163', 'doc0162', 'doc0161', 'doc0160', 'doc0159', 'doc0158', 'doc0157', 'doc0156', 'doc0155', 'doc0154', 'doc0153', 'doc0152', 'doc0151', 'doc0150', 'doc0149', 'doc0148', 'doc0147', 'doc0146', 'doc0145', 'doc0144', 'doc0143', 'doc0142', 'doc0141', 'doc0140', 'doc0139', 'doc0138', 'doc0137', 'doc0136', 'doc0135', 'doc0134', 'doc0133', 'doc0132', 'doc0131', 'doc0130', 'doc0129', 'doc0128', 'doc0127', 'doc0126', 'doc0125', 'doc0124', 'doc0123', 'doc0122', 'doc0121', 'doc0120', 'doc0119', 'doc0118', 'doc0117', 'doc0116', 'doc0115', 'doc0114', 'doc0113', 'doc0112', 'doc0111', 'doc0110', 'doc0109', 'doc0108', 'doc0107', 'doc0106', 'doc0105', 'doc0104', 'doc0103', 'doc0102', 'doc0101', 'doc0100', 'doc0099', 'doc0098', 'doc0097', 'doc0096', 'doc0095', 'doc0094', 'doc0093', 'doc0092', 'doc0091', 'doc0090', 'doc0089', 'doc0088', 'doc0087', 'doc0086', 'doc0085', 'doc0084', 'doc0083', 'doc0082', 'doc0081', 'doc0080', 'doc0079', 'doc0078', 'doc0077', 'doc0076', 'doc0075', 'doc0074', 'doc0073', 'doc0072', 'doc0071', 'doc0070', 'doc0069', 'doc0068', 'doc0067', 'doc0066', 'doc0065', 'doc0064', 'doc0063', 'doc0062', 'doc0061', 'doc0060', 'doc0059', 'doc0058', 'doc0057', 'doc0056', 'doc0055', 'doc0054', 'doc0053', 'doc0052', 'doc0051', 'doc0050', 'doc0049', 'doc0048', 'doc0047', 'doc0046', 'doc0045', 'doc0044', 'doc0043', 'doc0042', 'doc0041', 'doc0040', 'doc0039', 'doc0038', 'doc0037', 'doc0036', 'doc0035', 'doc0034', 'doc0033', 'doc0032', 'doc0031', 'doc0030', 'doc0029', 'doc0028', 'doc0027', 'doc0026', 'doc0025', 'doc0024', 'doc0023', 'doc0022', 'doc0021', 'doc0020', 'doc0019', 'doc0018', 'doc0017', 'doc0016', 'doc0015', 'doc0014', 'doc0013', 'doc0012', 'doc0011', 'doc0010', 'doc0009', 'doc0008', 'doc0007', 'doc0006', 'doc0005', 'doc0004', 'doc0003', 'doc0002', 'doc0001']\n"
     ]
    }
   ],
   "source": [
    "# Generar la lista de IDs en formato [ep000001] hasta [ep000199] de manera descendente\n",
    "ids = [f'doc{str(i).zfill(4)}' for i in range(1134, 0, -1)]\n",
    "\n",
    "print(ids)\n",
    "# Asignar la lista de IDs al DataFrame\n",
    "df['id'] = ids"
   ]
  },
  {
   "cell_type": "code",
   "execution_count": 16,
   "metadata": {},
   "outputs": [
    {
     "name": "stdout",
     "output_type": "stream",
     "text": [
      "<class 'pandas.core.frame.DataFrame'>\n",
      "RangeIndex: 1134 entries, 0 to 1133\n",
      "Data columns (total 4 columns):\n",
      " #   Column    Non-Null Count  Dtype \n",
      "---  ------    --------------  ----- \n",
      " 0   question  1134 non-null   object\n",
      " 1   area      1134 non-null   object\n",
      " 2   text      1134 non-null   object\n",
      " 3   id        1134 non-null   object\n",
      "dtypes: object(4)\n",
      "memory usage: 35.6+ KB\n"
     ]
    }
   ],
   "source": [
    "df.info()"
   ]
  },
  {
   "cell_type": "code",
   "execution_count": 17,
   "metadata": {},
   "outputs": [
    {
     "data": {
      "text/html": [
       "<div>\n",
       "<style scoped>\n",
       "    .dataframe tbody tr th:only-of-type {\n",
       "        vertical-align: middle;\n",
       "    }\n",
       "\n",
       "    .dataframe tbody tr th {\n",
       "        vertical-align: top;\n",
       "    }\n",
       "\n",
       "    .dataframe thead th {\n",
       "        text-align: right;\n",
       "    }\n",
       "</style>\n",
       "<table border=\"1\" class=\"dataframe\">\n",
       "  <thead>\n",
       "    <tr style=\"text-align: right;\">\n",
       "      <th></th>\n",
       "      <th>question</th>\n",
       "      <th>area</th>\n",
       "      <th>text</th>\n",
       "      <th>id</th>\n",
       "    </tr>\n",
       "  </thead>\n",
       "  <tbody>\n",
       "    <tr>\n",
       "      <th>0</th>\n",
       "      <td>1. What is a land survey?</td>\n",
       "      <td>surveying</td>\n",
       "      <td>A land survey is a report in the form of a map...</td>\n",
       "      <td>doc1134</td>\n",
       "    </tr>\n",
       "    <tr>\n",
       "      <th>1</th>\n",
       "      <td>2. Why are land surveys so important?</td>\n",
       "      <td>surveying</td>\n",
       "      <td>Prior to the closing on your new home purchase...</td>\n",
       "      <td>doc1133</td>\n",
       "    </tr>\n",
       "    <tr>\n",
       "      <th>2</th>\n",
       "      <td>3. How is a land survey performed?</td>\n",
       "      <td>surveying</td>\n",
       "      <td>The land surveyor's responsibility is to locat...</td>\n",
       "      <td>doc1132</td>\n",
       "    </tr>\n",
       "    <tr>\n",
       "      <th>3</th>\n",
       "      <td>4. Why have I been asked if I want property ma...</td>\n",
       "      <td>surveying</td>\n",
       "      <td>In the course of performing a survey in New Je...</td>\n",
       "      <td>doc1131</td>\n",
       "    </tr>\n",
       "    <tr>\n",
       "      <th>4</th>\n",
       "      <td>5. Why should I not waive the marking of prope...</td>\n",
       "      <td>surveying</td>\n",
       "      <td>Boundary lines shown on a survey map of the pr...</td>\n",
       "      <td>doc1130</td>\n",
       "    </tr>\n",
       "  </tbody>\n",
       "</table>\n",
       "</div>"
      ],
      "text/plain": [
       "                                            question       area  \\\n",
       "0                          1. What is a land survey?  surveying   \n",
       "1              2. Why are land surveys so important?  surveying   \n",
       "2                 3. How is a land survey performed?  surveying   \n",
       "3  4. Why have I been asked if I want property ma...  surveying   \n",
       "4  5. Why should I not waive the marking of prope...  surveying   \n",
       "\n",
       "                                                text       id  \n",
       "0  A land survey is a report in the form of a map...  doc1134  \n",
       "1  Prior to the closing on your new home purchase...  doc1133  \n",
       "2  The land surveyor's responsibility is to locat...  doc1132  \n",
       "3  In the course of performing a survey in New Je...  doc1131  \n",
       "4  Boundary lines shown on a survey map of the pr...  doc1130  "
      ]
     },
     "execution_count": 17,
     "metadata": {},
     "output_type": "execute_result"
    }
   ],
   "source": [
    "df.head()"
   ]
  },
  {
   "cell_type": "code",
   "execution_count": 18,
   "metadata": {},
   "outputs": [
    {
     "data": {
      "text/html": [
       "<div>\n",
       "<style scoped>\n",
       "    .dataframe tbody tr th:only-of-type {\n",
       "        vertical-align: middle;\n",
       "    }\n",
       "\n",
       "    .dataframe tbody tr th {\n",
       "        vertical-align: top;\n",
       "    }\n",
       "\n",
       "    .dataframe thead th {\n",
       "        text-align: right;\n",
       "    }\n",
       "</style>\n",
       "<table border=\"1\" class=\"dataframe\">\n",
       "  <thead>\n",
       "    <tr style=\"text-align: right;\">\n",
       "      <th></th>\n",
       "      <th>question</th>\n",
       "      <th>area</th>\n",
       "      <th>text</th>\n",
       "      <th>id</th>\n",
       "    </tr>\n",
       "  </thead>\n",
       "  <tbody>\n",
       "    <tr>\n",
       "      <th>0</th>\n",
       "      <td>1. What is a land survey?</td>\n",
       "      <td>surveying</td>\n",
       "      <td>A land survey is a report in the form of a map...</td>\n",
       "      <td>doc1134</td>\n",
       "    </tr>\n",
       "    <tr>\n",
       "      <th>1</th>\n",
       "      <td>2. Why are land surveys so important?</td>\n",
       "      <td>surveying</td>\n",
       "      <td>Prior to the closing on your new home purchase...</td>\n",
       "      <td>doc1133</td>\n",
       "    </tr>\n",
       "    <tr>\n",
       "      <th>2</th>\n",
       "      <td>3. How is a land survey performed?</td>\n",
       "      <td>surveying</td>\n",
       "      <td>The land surveyor's responsibility is to locat...</td>\n",
       "      <td>doc1132</td>\n",
       "    </tr>\n",
       "    <tr>\n",
       "      <th>3</th>\n",
       "      <td>4. Why have I been asked if I want property ma...</td>\n",
       "      <td>surveying</td>\n",
       "      <td>In the course of performing a survey in New Je...</td>\n",
       "      <td>doc1131</td>\n",
       "    </tr>\n",
       "    <tr>\n",
       "      <th>4</th>\n",
       "      <td>5. Why should I not waive the marking of prope...</td>\n",
       "      <td>surveying</td>\n",
       "      <td>Boundary lines shown on a survey map of the pr...</td>\n",
       "      <td>doc1130</td>\n",
       "    </tr>\n",
       "  </tbody>\n",
       "</table>\n",
       "</div>"
      ],
      "text/plain": [
       "                                            question       area  \\\n",
       "0                          1. What is a land survey?  surveying   \n",
       "1              2. Why are land surveys so important?  surveying   \n",
       "2                 3. How is a land survey performed?  surveying   \n",
       "3  4. Why have I been asked if I want property ma...  surveying   \n",
       "4  5. Why should I not waive the marking of prope...  surveying   \n",
       "\n",
       "                                                text       id  \n",
       "0  A land survey is a report in the form of a map...  doc1134  \n",
       "1  Prior to the closing on your new home purchase...  doc1133  \n",
       "2  The land surveyor's responsibility is to locat...  doc1132  \n",
       "3  In the course of performing a survey in New Je...  doc1131  \n",
       "4  Boundary lines shown on a survey map of the pr...  doc1130  "
      ]
     },
     "execution_count": 18,
     "metadata": {},
     "output_type": "execute_result"
    }
   ],
   "source": [
    "df.head()"
   ]
  },
  {
   "cell_type": "code",
   "execution_count": 19,
   "metadata": {},
   "outputs": [
    {
     "data": {
      "text/plain": [
       "question    0\n",
       "area        0\n",
       "text        0\n",
       "id          0\n",
       "dtype: int64"
      ]
     },
     "execution_count": 19,
     "metadata": {},
     "output_type": "execute_result"
    }
   ],
   "source": [
    "df.isnull().sum()"
   ]
  },
  {
   "cell_type": "code",
   "execution_count": 20,
   "metadata": {},
   "outputs": [],
   "source": [
    "df.to_csv('/workspaces/geospatial-chat/data/processed/train_data.csv')"
   ]
  },
  {
   "cell_type": "code",
   "execution_count": 21,
   "metadata": {},
   "outputs": [],
   "source": [
    "df.to_json('/workspaces/geospatial-chat/data/processed/train_data.json', orient='records', lines=True)"
   ]
  }
 ],
 "metadata": {
  "kernelspec": {
   "display_name": "eda_env",
   "language": "python",
   "name": "python3"
  },
  "language_info": {
   "codemirror_mode": {
    "name": "ipython",
    "version": 3
   },
   "file_extension": ".py",
   "mimetype": "text/x-python",
   "name": "python",
   "nbconvert_exporter": "python",
   "pygments_lexer": "ipython3",
   "version": "3.12.5"
  }
 },
 "nbformat": 4,
 "nbformat_minor": 2
}
